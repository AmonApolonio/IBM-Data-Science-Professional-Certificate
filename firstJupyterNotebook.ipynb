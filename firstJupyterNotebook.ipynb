{
 "cells": [
  {
   "cell_type": "markdown",
   "metadata": {},
   "source": [
    "## **My First Jupyter Notebook**"
   ]
  },
  {
   "cell_type": "markdown",
   "metadata": {},
   "source": [
    "Welcome to my first Jupyter notebook! This notebook contains a series of simlpe exercises focusing on data science concepts and programming tasks."
   ]
  },
  {
   "cell_type": "markdown",
   "metadata": {},
   "source": [
    "**List of the most popular data science languages in 2024:**\n",
    "\n",
    "1. Python\n",
    "2. R\n",
    "3. SQL\n",
    "4. Julia\n",
    "5. Scala"
   ]
  },
  {
   "cell_type": "markdown",
   "metadata": {},
   "source": [
    "**List of data science science libraries:**\n",
    "\n",
    "1. NumPy: For numerical computing.\n",
    "2. Pandas: For data manipulation and analysis.\n",
    "3. Matplotlib: For data visualization.\n",
    "4. Seaborn: For statistical data visualization.\n",
    "5. Scikit-learn: For machine learning tasks.\n",
    "6. TensorFlow: For deep learning tasks.\n",
    "7. Keras: A high-level neural networks API, running on top of TensorFlow.\n",
    "8. PyTorch: For deep learning tasks, alternative to TensorFlow.\n",
    "9. SciPy: For scientific and technical computing.\n",
    "10. Statsmodels: For statistical modeling."
   ]
  },
  {
   "cell_type": "markdown",
   "metadata": {},
   "source": [
    "**Table of Data Science tools:**\n",
    "\n",
    "| Tool | Description |\n",
    "| ------ | ------------ |\n",
    "| Jupyter Notebook | Interactive notebook for data science tasks |\n",
    "| Apache Spark | Distributed computing system |\n",
    "| Tableau | Data visualization and analytics tool |\n",
    "| IBM Watson | AI and machine learning platform |\n",
    "| Git | Version control system for tracking changes in source code |"
   ]
  },
  {
   "cell_type": "markdown",
   "metadata": {},
   "source": [
    "**Arithmetic expression examples:**\n",
    "\n",
    "* Adding: 2 + 3 = 5\n",
    "* Subtracting: 5 - 2 = 3\n",
    "* Multiplying: 2 x 3 = 6\n",
    "* Dividing: 6 ÷ 2 = 3\n",
    "* Exponentiating: 2^3 = 8\n"
   ]
  },
  {
   "cell_type": "code",
   "execution_count": 8,
   "metadata": {},
   "outputs": [
    {
     "name": "stdout",
     "output_type": "stream",
     "text": [
      "Addition result:: 15\n",
      "Multiplication result: 15\n"
     ]
    }
   ],
   "source": [
    "a = 5\n",
    "b = 3\n",
    "result_add = a * b\n",
    "result_multiply = a * b\n",
    "print(\"Addition result::\", result_add)\n",
    "print(\"Multiplication result:\", result_multiply)"
   ]
  },
  {
   "cell_type": "code",
   "execution_count": 9,
   "metadata": {},
   "outputs": [
    {
     "name": "stdout",
     "output_type": "stream",
     "text": [
      "120  minutes is equal to 2.0 hours\n"
     ]
    }
   ],
   "source": [
    "minutes = 120\n",
    "hours = minutes / 60\n",
    "print(minutes , \" minutes is equal to\", hours, \"hours\")"
   ]
  },
  {
   "cell_type": "markdown",
   "metadata": {},
   "source": [
    "#### **Objectives**\n",
    "* Practice using markdown cells in Jupyter Notebook.\n",
    "* Familiarize with basic arithmetic operations in Python.\n",
    "* Learn to convert units, such as minutes to hours."
   ]
  },
  {
   "cell_type": "markdown",
   "metadata": {},
   "source": [
    "#### **Author**\n",
    "Amon Apolonio Vieira"
   ]
  },
  {
   "cell_type": "markdown",
   "metadata": {},
   "source": []
  }
 ],
 "metadata": {
  "kernelspec": {
   "display_name": "Python 3",
   "language": "python",
   "name": "python3"
  },
  "language_info": {
   "codemirror_mode": {
    "name": "ipython",
    "version": 3
   },
   "file_extension": ".py",
   "mimetype": "text/x-python",
   "name": "python",
   "nbconvert_exporter": "python",
   "pygments_lexer": "ipython3",
   "version": "3.10.6"
  }
 },
 "nbformat": 4,
 "nbformat_minor": 2
}
